{
 "cells": [
  {
   "cell_type": "code",
   "execution_count": 4,
   "id": "70a40fb7",
   "metadata": {},
   "outputs": [],
   "source": [
    "### PROJECT AIRBNB KOSTEN VOORSPELLEN ###"
   ]
  },
  {
   "cell_type": "code",
   "execution_count": 13,
   "id": "e4b63184",
   "metadata": {},
   "outputs": [],
   "source": [
    "### Aanpassing als test "
    "###### STEPS USING CRISP-DM ######\n",
    "\n",
    "### business understanding ###\n",
    "\n",
    "#1 SMART goals & stakeholder analysis\n",
    "# Finished proposal\n",
    "\n",
    "### data understanding ###\n",
    "\n",
    "#1 Structured / Unstructured / Semi-structured\n",
    "#2 Data quality: accuracy, completeness, consistency\n",
    "#3 Data governance: availability, usability, integrity, security\n",
    "# Finished in proposal\n",
    "\n",
    "\n",
    "### data preparation ###\n",
    "\n",
    "#1 Data selection\n",
    "#2 Cleaning the data: delete instance/attributes, replace, provide improvements or imputations\n",
    "#3 Integrate & constract: create new data set by combining\n",
    "#4 Formating the data: \n",
    "#  check the labsession 1: tips was using transformers and pipelines\n",
    "#  feature scaling (normalising): minmaxscaler or (standardization): standardscaler/Z-score\n",
    "#  feature selection (unsupervised/supervised): removing features with low variance / univeriate feature selection / exhaustive feature selection / REF / SFS\n",
    "#  data balancing: oversampling, undersampling, SMOTE\n",
    "\n",
    "\n",
    "### modeling ###\n",
    "\n",
    "#1 Select modeling techniques\n",
    "#  Type of classification: binary, multiclass (OvR / OvO strategy), multilabel, multioutput \n",
    "#  Classification method: K-nearest, linear, regression, clustering, instance-based, dimensional reduction, decision tree, ensemble, bayesian, ANN, Association rule learning, Dl\n",
    "#  Try and evaluate multiple!\n",
    "#2 Generate Test Deisgn\n",
    "#3 ?\n",
    "#4 Test the model\n",
    "#  Training / test / validation set\n",
    "#  K-fold cross validation: balanced (𝑛 ∗ (𝑘 − 1)/𝑘 ) or unbalanced: stratified k-fold cross validation\n",
    "#5 Hyperparameter Tuning: grid search & random search\n",
    "\n",
    "\n",
    "### evaluation ###\n",
    "\n",
    "#1 Confusion Matrix\n",
    "#  measure: precision, recall, specificity, accuracy, F1 Score\n",
    "#  Receiver Operating Characteristic & the Area Under the Curve\n",
    "\n",
    "# deployment"
   ]
  },
  {
   "cell_type": "code",
   "execution_count": null,
   "id": "673233e7",
   "metadata": {},
   "outputs": [],
   "source": []
  }
 ],
 "metadata": {
  "kernelspec": {
   "display_name": "Python 3 (ipykernel)",
   "language": "python",
   "name": "python3"
  },
  "language_info": {
   "codemirror_mode": {
    "name": "ipython",
    "version": 3
   },
   "file_extension": ".py",
   "mimetype": "text/x-python",
   "name": "python",
   "nbconvert_exporter": "python",
   "pygments_lexer": "ipython3",
   "version": "3.10.9"
  }
 },
 "nbformat": 4,
 "nbformat_minor": 5
}
